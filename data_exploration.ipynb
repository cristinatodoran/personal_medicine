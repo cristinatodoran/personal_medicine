{
 "cells": [
  {
   "cell_type": "code",
   "execution_count": 67,
   "metadata": {
    "collapsed": true
   },
   "outputs": [],
   "source": [
    "import pandas as pd\n",
    "import numpy as np\n",
    "import os\n",
    "import matplotlib.pyplot as plt\n",
    "import re\n",
    "from sklearn.feature_extraction.text import TfidfVectorizer\n"
   ]
  },
  {
   "cell_type": "code",
   "execution_count": 68,
   "metadata": {
    "collapsed": true
   },
   "outputs": [],
   "source": [
    "%matplotlib inline"
   ]
  },
  {
   "cell_type": "code",
   "execution_count": 69,
   "metadata": {},
   "outputs": [],
   "source": [
    "datapath = os.path.expanduser('~') + '/meddata/'\n",
    "dfVar = pd.read_csv(datapath + 'training_variants') #,index_col='ID')"
   ]
  },
  {
   "cell_type": "code",
   "execution_count": 70,
   "metadata": {},
   "outputs": [
    {
     "data": {
      "text/html": [
       "<div>\n",
       "<table border=\"1\" class=\"dataframe\">\n",
       "  <thead>\n",
       "    <tr style=\"text-align: right;\">\n",
       "      <th></th>\n",
       "      <th>ID</th>\n",
       "      <th>Gene</th>\n",
       "      <th>Variation</th>\n",
       "      <th>Class</th>\n",
       "    </tr>\n",
       "  </thead>\n",
       "  <tbody>\n",
       "    <tr>\n",
       "      <th>0</th>\n",
       "      <td>0</td>\n",
       "      <td>FAM58A</td>\n",
       "      <td>Truncating Mutations</td>\n",
       "      <td>1</td>\n",
       "    </tr>\n",
       "    <tr>\n",
       "      <th>1</th>\n",
       "      <td>1</td>\n",
       "      <td>CBL</td>\n",
       "      <td>W802*</td>\n",
       "      <td>2</td>\n",
       "    </tr>\n",
       "    <tr>\n",
       "      <th>2</th>\n",
       "      <td>2</td>\n",
       "      <td>CBL</td>\n",
       "      <td>Q249E</td>\n",
       "      <td>2</td>\n",
       "    </tr>\n",
       "    <tr>\n",
       "      <th>3</th>\n",
       "      <td>3</td>\n",
       "      <td>CBL</td>\n",
       "      <td>N454D</td>\n",
       "      <td>3</td>\n",
       "    </tr>\n",
       "    <tr>\n",
       "      <th>4</th>\n",
       "      <td>4</td>\n",
       "      <td>CBL</td>\n",
       "      <td>L399V</td>\n",
       "      <td>4</td>\n",
       "    </tr>\n",
       "  </tbody>\n",
       "</table>\n",
       "</div>"
      ],
      "text/plain": [
       "   ID    Gene             Variation  Class\n",
       "0   0  FAM58A  Truncating Mutations      1\n",
       "1   1     CBL                 W802*      2\n",
       "2   2     CBL                 Q249E      2\n",
       "3   3     CBL                 N454D      3\n",
       "4   4     CBL                 L399V      4"
      ]
     },
     "execution_count": 70,
     "metadata": {},
     "output_type": "execute_result"
    }
   ],
   "source": [
    "dfVar.head()"
   ]
  },
  {
   "cell_type": "code",
   "execution_count": 71,
   "metadata": {
    "collapsed": true
   },
   "outputs": [],
   "source": [
    "file = open(datapath + 'training_text', 'r', encoding = 'utf-8') \n",
    "rawText = file.read()"
   ]
  },
  {
   "cell_type": "code",
   "execution_count": 72,
   "metadata": {
    "collapsed": true
   },
   "outputs": [],
   "source": [
    "lines = rawText.split('\\n')[1:]\n",
    "\n",
    "splitted = [line.split('||') for line in lines]\n",
    "\n",
    "dfText = pd.DataFrame(splitted, columns=['ID','Text'])\n",
    "\n",
    "dfText['ln'] = dfText['ID'].map(lambda x: len(x))\n",
    "dfText = dfText[dfText['ln'] > 0]\n",
    "dfText.drop('ln',axis=1,inplace=True)\n",
    "dfText['ID'] = dfText['ID'].map(lambda n:int(n))\n"
   ]
  },
  {
   "cell_type": "code",
   "execution_count": 73,
   "metadata": {
    "scrolled": true
   },
   "outputs": [
    {
     "data": {
      "text/html": [
       "<div>\n",
       "<table border=\"1\" class=\"dataframe\">\n",
       "  <thead>\n",
       "    <tr style=\"text-align: right;\">\n",
       "      <th></th>\n",
       "      <th>ID</th>\n",
       "      <th>Text</th>\n",
       "    </tr>\n",
       "  </thead>\n",
       "  <tbody>\n",
       "    <tr>\n",
       "      <th>0</th>\n",
       "      <td>0</td>\n",
       "      <td>Cyclin-dependent kinases (CDKs) regulate a var...</td>\n",
       "    </tr>\n",
       "    <tr>\n",
       "      <th>1</th>\n",
       "      <td>1</td>\n",
       "      <td>Abstract Background  Non-small cell lung canc...</td>\n",
       "    </tr>\n",
       "    <tr>\n",
       "      <th>2</th>\n",
       "      <td>2</td>\n",
       "      <td>Abstract Background  Non-small cell lung canc...</td>\n",
       "    </tr>\n",
       "    <tr>\n",
       "      <th>3</th>\n",
       "      <td>3</td>\n",
       "      <td>Recent evidence has demonstrated that acquired...</td>\n",
       "    </tr>\n",
       "    <tr>\n",
       "      <th>4</th>\n",
       "      <td>4</td>\n",
       "      <td>Oncogenic mutations in the monomeric Casitas B...</td>\n",
       "    </tr>\n",
       "  </tbody>\n",
       "</table>\n",
       "</div>"
      ],
      "text/plain": [
       "   ID                                               Text\n",
       "0   0  Cyclin-dependent kinases (CDKs) regulate a var...\n",
       "1   1   Abstract Background  Non-small cell lung canc...\n",
       "2   2   Abstract Background  Non-small cell lung canc...\n",
       "3   3  Recent evidence has demonstrated that acquired...\n",
       "4   4  Oncogenic mutations in the monomeric Casitas B..."
      ]
     },
     "execution_count": 73,
     "metadata": {},
     "output_type": "execute_result"
    }
   ],
   "source": [
    "dfText.head()"
   ]
  },
  {
   "cell_type": "code",
   "execution_count": 74,
   "metadata": {
    "collapsed": true
   },
   "outputs": [],
   "source": [
    "df = pd.merge(dfText, dfVar, on='ID')\n",
    "df.set_index('ID',drop=True,inplace=True)"
   ]
  },
  {
   "cell_type": "code",
   "execution_count": 75,
   "metadata": {
    "collapsed": true
   },
   "outputs": [],
   "source": [
    "df['hasAbstract'] = df['Text'].map(lambda txt: \n",
    "                                   'abstract' in txt.lower())\n"
   ]
  },
  {
   "cell_type": "code",
   "execution_count": 76,
   "metadata": {
    "scrolled": true
   },
   "outputs": [
    {
     "data": {
      "text/html": [
       "<div>\n",
       "<table border=\"1\" class=\"dataframe\">\n",
       "  <thead>\n",
       "    <tr style=\"text-align: right;\">\n",
       "      <th></th>\n",
       "      <th>Text</th>\n",
       "      <th>Gene</th>\n",
       "      <th>Variation</th>\n",
       "      <th>Class</th>\n",
       "      <th>hasAbstract</th>\n",
       "    </tr>\n",
       "    <tr>\n",
       "      <th>ID</th>\n",
       "      <th></th>\n",
       "      <th></th>\n",
       "      <th></th>\n",
       "      <th></th>\n",
       "      <th></th>\n",
       "    </tr>\n",
       "  </thead>\n",
       "  <tbody>\n",
       "    <tr>\n",
       "      <th>0</th>\n",
       "      <td>Cyclin-dependent kinases (CDKs) regulate a var...</td>\n",
       "      <td>FAM58A</td>\n",
       "      <td>Truncating Mutations</td>\n",
       "      <td>1</td>\n",
       "      <td>False</td>\n",
       "    </tr>\n",
       "    <tr>\n",
       "      <th>1</th>\n",
       "      <td>Abstract Background  Non-small cell lung canc...</td>\n",
       "      <td>CBL</td>\n",
       "      <td>W802*</td>\n",
       "      <td>2</td>\n",
       "      <td>True</td>\n",
       "    </tr>\n",
       "    <tr>\n",
       "      <th>2</th>\n",
       "      <td>Abstract Background  Non-small cell lung canc...</td>\n",
       "      <td>CBL</td>\n",
       "      <td>Q249E</td>\n",
       "      <td>2</td>\n",
       "      <td>True</td>\n",
       "    </tr>\n",
       "    <tr>\n",
       "      <th>3</th>\n",
       "      <td>Recent evidence has demonstrated that acquired...</td>\n",
       "      <td>CBL</td>\n",
       "      <td>N454D</td>\n",
       "      <td>3</td>\n",
       "      <td>False</td>\n",
       "    </tr>\n",
       "    <tr>\n",
       "      <th>4</th>\n",
       "      <td>Oncogenic mutations in the monomeric Casitas B...</td>\n",
       "      <td>CBL</td>\n",
       "      <td>L399V</td>\n",
       "      <td>4</td>\n",
       "      <td>False</td>\n",
       "    </tr>\n",
       "  </tbody>\n",
       "</table>\n",
       "</div>"
      ],
      "text/plain": [
       "                                                 Text    Gene  \\\n",
       "ID                                                              \n",
       "0   Cyclin-dependent kinases (CDKs) regulate a var...  FAM58A   \n",
       "1    Abstract Background  Non-small cell lung canc...     CBL   \n",
       "2    Abstract Background  Non-small cell lung canc...     CBL   \n",
       "3   Recent evidence has demonstrated that acquired...     CBL   \n",
       "4   Oncogenic mutations in the monomeric Casitas B...     CBL   \n",
       "\n",
       "               Variation  Class hasAbstract  \n",
       "ID                                           \n",
       "0   Truncating Mutations      1       False  \n",
       "1                  W802*      2        True  \n",
       "2                  Q249E      2        True  \n",
       "3                  N454D      3       False  \n",
       "4                  L399V      4       False  "
      ]
     },
     "execution_count": 76,
     "metadata": {},
     "output_type": "execute_result"
    }
   ],
   "source": [
    "df.head()"
   ]
  },
  {
   "cell_type": "code",
   "execution_count": 77,
   "metadata": {
    "collapsed": true
   },
   "outputs": [],
   "source": [
    "df['hasIntroduction'] = df['Text'].map(lambda txt: \n",
    "                                   'introduction' in txt.lower())\n",
    "    "
   ]
  },
  {
   "cell_type": "code",
   "execution_count": 78,
   "metadata": {
    "scrolled": true
   },
   "outputs": [],
   "source": [
    "abstracts = []\n",
    "for index in range(0, df.shape[0]):\n",
    "    abstracts.append(df.ix[index,'Text'].partition('Introduction')[0])\n",
    "\n",
    "\n",
    "df['Abstracts'] = pd.Series (abstracts, index=df.index-1)"
   ]
  },
  {
   "cell_type": "code",
   "execution_count": 79,
   "metadata": {},
   "outputs": [
    {
     "data": {
      "text/html": [
       "<div>\n",
       "<table border=\"1\" class=\"dataframe\">\n",
       "  <thead>\n",
       "    <tr style=\"text-align: right;\">\n",
       "      <th></th>\n",
       "      <th>Text</th>\n",
       "      <th>Gene</th>\n",
       "      <th>Variation</th>\n",
       "      <th>Class</th>\n",
       "      <th>hasAbstract</th>\n",
       "      <th>hasIntroduction</th>\n",
       "      <th>Abstracts</th>\n",
       "    </tr>\n",
       "    <tr>\n",
       "      <th>ID</th>\n",
       "      <th></th>\n",
       "      <th></th>\n",
       "      <th></th>\n",
       "      <th></th>\n",
       "      <th></th>\n",
       "      <th></th>\n",
       "      <th></th>\n",
       "    </tr>\n",
       "  </thead>\n",
       "  <tbody>\n",
       "    <tr>\n",
       "      <th>0</th>\n",
       "      <td>Cyclin-dependent kinases (CDKs) regulate a var...</td>\n",
       "      <td>FAM58A</td>\n",
       "      <td>Truncating Mutations</td>\n",
       "      <td>1</td>\n",
       "      <td>False</td>\n",
       "      <td>False</td>\n",
       "      <td>Abstract Background  Non-small cell lung canc...</td>\n",
       "    </tr>\n",
       "    <tr>\n",
       "      <th>1</th>\n",
       "      <td>Abstract Background  Non-small cell lung canc...</td>\n",
       "      <td>CBL</td>\n",
       "      <td>W802*</td>\n",
       "      <td>2</td>\n",
       "      <td>True</td>\n",
       "      <td>True</td>\n",
       "      <td>Abstract Background  Non-small cell lung canc...</td>\n",
       "    </tr>\n",
       "    <tr>\n",
       "      <th>2</th>\n",
       "      <td>Abstract Background  Non-small cell lung canc...</td>\n",
       "      <td>CBL</td>\n",
       "      <td>Q249E</td>\n",
       "      <td>2</td>\n",
       "      <td>True</td>\n",
       "      <td>True</td>\n",
       "      <td>Recent evidence has demonstrated that acquired...</td>\n",
       "    </tr>\n",
       "    <tr>\n",
       "      <th>3</th>\n",
       "      <td>Recent evidence has demonstrated that acquired...</td>\n",
       "      <td>CBL</td>\n",
       "      <td>N454D</td>\n",
       "      <td>3</td>\n",
       "      <td>False</td>\n",
       "      <td>True</td>\n",
       "      <td>Oncogenic mutations in the monomeric Casitas B...</td>\n",
       "    </tr>\n",
       "    <tr>\n",
       "      <th>4</th>\n",
       "      <td>Oncogenic mutations in the monomeric Casitas B...</td>\n",
       "      <td>CBL</td>\n",
       "      <td>L399V</td>\n",
       "      <td>4</td>\n",
       "      <td>False</td>\n",
       "      <td>True</td>\n",
       "      <td>Oncogenic mutations in the monomeric Casitas B...</td>\n",
       "    </tr>\n",
       "  </tbody>\n",
       "</table>\n",
       "</div>"
      ],
      "text/plain": [
       "                                                 Text    Gene  \\\n",
       "ID                                                              \n",
       "0   Cyclin-dependent kinases (CDKs) regulate a var...  FAM58A   \n",
       "1    Abstract Background  Non-small cell lung canc...     CBL   \n",
       "2    Abstract Background  Non-small cell lung canc...     CBL   \n",
       "3   Recent evidence has demonstrated that acquired...     CBL   \n",
       "4   Oncogenic mutations in the monomeric Casitas B...     CBL   \n",
       "\n",
       "               Variation  Class hasAbstract hasIntroduction  \\\n",
       "ID                                                            \n",
       "0   Truncating Mutations      1       False           False   \n",
       "1                  W802*      2        True            True   \n",
       "2                  Q249E      2        True            True   \n",
       "3                  N454D      3       False            True   \n",
       "4                  L399V      4       False            True   \n",
       "\n",
       "                                            Abstracts  \n",
       "ID                                                     \n",
       "0    Abstract Background  Non-small cell lung canc...  \n",
       "1    Abstract Background  Non-small cell lung canc...  \n",
       "2   Recent evidence has demonstrated that acquired...  \n",
       "3   Oncogenic mutations in the monomeric Casitas B...  \n",
       "4   Oncogenic mutations in the monomeric Casitas B...  "
      ]
     },
     "execution_count": 79,
     "metadata": {},
     "output_type": "execute_result"
    }
   ],
   "source": [
    "df.head()"
   ]
  },
  {
   "cell_type": "code",
   "execution_count": 80,
   "metadata": {},
   "outputs": [
    {
     "name": "stdout",
     "output_type": "stream",
     "text": [
      "[[ 0.          0.01641522  0.         ...,  0.          0.          0.        ]\n",
      " [ 0.          0.00691475  0.         ...,  0.          0.          0.        ]\n",
      " [ 0.          0.00691475  0.         ...,  0.          0.          0.        ]\n",
      " ..., \n",
      " [ 0.          0.          0.         ...,  0.          0.          0.        ]\n",
      " [ 0.          0.00196218  0.         ...,  0.          0.          0.        ]\n",
      " [ 0.          0.00098264  0.         ...,  0.          0.          0.        ]]\n"
     ]
    }
   ],
   "source": [
    "def tf_idf(articles):\n",
    "    tfidf_vectorizer = TfidfVectorizer(min_df = 1)\n",
    "    tfidf_matrix = tfidf_vectorizer.fit_transform(articles);\n",
    "    return tfidf_matrix\n",
    "\n",
    "articles = df['Text']\n",
    "tfidf_matrix = tf_idf(articles).todense()\n",
    "print (tfidf_matrix )\n"
   ]
  },
  {
   "cell_type": "code",
   "execution_count": 81,
   "metadata": {},
   "outputs": [
    {
     "name": "stdout",
     "output_type": "stream",
     "text": [
      "ID\n",
      "0        Abstract Background  Non-small cell lung canc...\n",
      "1        Abstract Background  Non-small cell lung canc...\n",
      "2       Recent evidence has demonstrated that acquired...\n",
      "3       Oncogenic mutations in the monomeric Casitas B...\n",
      "4       Oncogenic mutations in the monomeric Casitas B...\n",
      "5       Oncogenic mutations in the monomeric Casitas B...\n",
      "6       CBL is a negative regulator of activated recep...\n",
      "7        Abstract Juvenile myelomonocytic leukemia (JM...\n",
      "8        Abstract Juvenile myelomonocytic leukemia (JM...\n",
      "9       Oncogenic mutations in the monomeric Casitas B...\n",
      "10      Noonan syndrome is an autosomal dominant conge...\n",
      "11      Noonan syndrome is an autosomal dominant conge...\n",
      "12      Noonan syndrome is an autosomal dominant conge...\n",
      "13      Oncogenic mutations in the monomeric Casitas B...\n",
      "14      Noonan syndrome is an autosomal dominant conge...\n",
      "15      To determine if residual cylindrical refractiv...\n",
      "16      Acquired uniparental disomy (aUPD) is a common...\n",
      "17      Oncogenic mutations in the monomeric Casitas B...\n",
      "18      Acquired uniparental disomy (aUPD) is a common...\n",
      "19       Abstract Background  Non-small cell lung canc...\n",
      "20      Oncogenic mutations in the monomeric Casitas B...\n",
      "21      Oncogenic mutations in the monomeric Casitas B...\n",
      "22      Recent evidence has demonstrated that acquired...\n",
      "23      Recent evidence has demonstrated that acquired...\n",
      "24      Recent evidence has demonstrated that acquired...\n",
      "25       Abstract N-myristoylation is a common form of...\n",
      "26      Heterozygous mutations in the telomerase compo...\n",
      "27      Sequencing studies have identified many recurr...\n",
      "28      Heterozygous mutations in the telomerase compo...\n",
      "29      Heterozygous mutations in the telomerase compo...\n",
      "                              ...                        \n",
      "3291    We investigatedthe transformingactivityofthe r...\n",
      "3292    RET is a transmembrane tyrosine kinase partici...\n",
      "3293                                                     \n",
      "3294    Many missense mutations in the RET proto-oncog...\n",
      "3295    The RET proto-oncogene encodes a receptor tyro...\n",
      "3296    THE AML1 GENE IS KNOWN as the most frequent ta...\n",
      "3297                                                     \n",
      "3298    The BCR-ABL fusion protein generated by t(9;22...\n",
      "3299    The most frequent mutations associated with le...\n",
      "3300    The most frequent mutations associated with le...\n",
      "3301    Familial platelet disorder with predisposition...\n",
      "3302                                                     \n",
      "3303    Familial platelet disorder with predisposition...\n",
      "3304                                                     \n",
      "3305    Here we report two new RUNX1 mutations in one ...\n",
      "3306    The RUNX genes have come to prominence recentl...\n",
      "3307     Familial platelet disorder with propensity to...\n",
      "3308    The BCR-ABL fusion protein generated by t(9;22...\n",
      "3309    RUNX proteins belong to a family of metazoan t...\n",
      "3310    The AML1/EVI-1 chimeric gene is generated by t...\n",
      "3311    Balanced chromosomal translocations are freque...\n",
      "3312    The BCR-ABL fusion protein generated by t(9;22...\n",
      "3313                                                     \n",
      "3314    The RUNX gene family includes three evolutiona...\n",
      "3315                                                     \n",
      "3316                                                     \n",
      "3317    The Runt-related transcription factor 1 gene (...\n",
      "3318    The RUNX1/AML1 gene is the most frequent targe...\n",
      "3319    The most frequent mutations associated with le...\n",
      "3320                                                  NaN\n",
      "Name: Abstracts, dtype: object\n"
     ]
    }
   ],
   "source": [
    "print(df['Abstracts'])"
   ]
  }
 ],
 "metadata": {
  "kernelspec": {
   "display_name": "Python 3",
   "language": "python",
   "name": "python3"
  },
  "language_info": {
   "codemirror_mode": {
    "name": "ipython",
    "version": 3
   },
   "file_extension": ".py",
   "mimetype": "text/x-python",
   "name": "python",
   "nbconvert_exporter": "python",
   "pygments_lexer": "ipython3",
   "version": "3.5.2"
  }
 },
 "nbformat": 4,
 "nbformat_minor": 2
}
